{
 "cells": [
  {
   "cell_type": "markdown",
   "metadata": {},
   "source": [
    "# U2T1 - Co-authorship Network Revamped\n",
    "\n",
    "## Overview\n",
    "\n",
    "This assignment we'll add some metrics to a co-authorship network for the [UFRN's Graduate Program in Electrical and Computer Engineering](https://posgraduacao.ufrn.br/ppgeec) aiming to later enrich the visualizations of said network using [Gephi](https://gephi.org/). The graph nodes will get new attributes according to their centrality measurements and core/shell condition.\n",
    "\n",
    "## Browse\n",
    "\n",
    "* [Import Data](#import-data)\n",
    "* [Centrality Measurements](#centrality-measurements)\n",
    "* [Core Decomposition](#core-decomposition)\n",
    "* [Export Graph](#export-graph)"
   ]
  },
  {
   "cell_type": "markdown",
   "metadata": {},
   "source": [
    "## Import Data"
   ]
  },
  {
   "cell_type": "code",
   "execution_count": 1,
   "metadata": {},
   "outputs": [],
   "source": [
    "import networkx as nx"
   ]
  },
  {
   "cell_type": "code",
   "execution_count": 7,
   "metadata": {},
   "outputs": [],
   "source": [
    "G = nx.read_gexf('data/network.gexf')"
   ]
  },
  {
   "cell_type": "markdown",
   "metadata": {},
   "source": [
    "## Centrality Measurements"
   ]
  },
  {
   "cell_type": "code",
   "execution_count": 8,
   "metadata": {},
   "outputs": [],
   "source": [
    "bc = nx.betweenness_centrality(G)\n",
    "nx.set_node_attributes(G, bc, 'betweenness_centrality')\n",
    "dc = nx.degree_centrality(G)\n",
    "nx.set_node_attributes(G, dc, 'degree_centrality')\n",
    "cc = nx.closeness_centrality(G)\n",
    "nx.set_node_attributes(G, cc, 'closeness_centrality')\n",
    "ec = nx.eigenvector_centrality(G)\n",
    "nx.set_node_attributes(G, ec, 'eigenvector_centrality')"
   ]
  },
  {
   "cell_type": "markdown",
   "metadata": {},
   "source": [
    "## Core decomposition"
   ]
  },
  {
   "cell_type": "code",
   "execution_count": 17,
   "metadata": {},
   "outputs": [],
   "source": [
    "# Cleaning self-loops\n",
    "G.remove_edges_from(nx.selfloop_edges(G))\n",
    "n_cores = sorted(list(set([v for k, v in nx.core_number(G).items()])))\n",
    "\n",
    "G_shell = nx.k_shell(G, k=n_cores[-2])\n",
    "G_core = nx.k_core(G, k=n_cores[-1])\n",
    "\n",
    "nx.set_node_attributes(G, 0, 'is_core')\n",
    "nx.set_node_attributes(G, {n: 1 for n in G_core.nodes()}, 'is_core')\n",
    "nx.set_node_attributes(G, {n: 2 for n in G_shell.nodes()}, 'is_core')\n"
   ]
  },
  {
   "cell_type": "markdown",
   "metadata": {},
   "source": [
    "## Export Graph"
   ]
  },
  {
   "cell_type": "code",
   "execution_count": 22,
   "metadata": {},
   "outputs": [
    {
     "data": {
      "text/plain": [
       "11157"
      ]
     },
     "execution_count": 22,
     "metadata": {},
     "output_type": "execute_result"
    }
   ],
   "source": [
    "G.number_of_edges()"
   ]
  },
  {
   "cell_type": "code",
   "execution_count": 19,
   "metadata": {},
   "outputs": [],
   "source": [
    "nx.write_gexf(G, 'data/network_modified.gexf')"
   ]
  }
 ],
 "metadata": {
  "kernelspec": {
   "display_name": "Python 3",
   "language": "python",
   "name": "python3"
  },
  "language_info": {
   "codemirror_mode": {
    "name": "ipython",
    "version": 3
   },
   "file_extension": ".py",
   "mimetype": "text/x-python",
   "name": "python",
   "nbconvert_exporter": "python",
   "pygments_lexer": "ipython3",
   "version": "3.11.0"
  }
 },
 "nbformat": 4,
 "nbformat_minor": 2
}
