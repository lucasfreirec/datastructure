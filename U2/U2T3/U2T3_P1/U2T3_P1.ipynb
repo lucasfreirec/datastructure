{
 "cells": [
  {
   "cell_type": "code",
   "execution_count": 1,
   "metadata": {},
   "outputs": [],
   "source": [
    "import networkx as nx\n",
    "import osmnx as ox\n",
    "import matplotlib.pyplot as plt\n",
    "from MinHeap import *\n",
    "from dijkstrasAlgorithm import *\n",
    "from reconstructPath import *"
   ]
  },
  {
   "cell_type": "code",
   "execution_count": 19,
   "metadata": {},
   "outputs": [
    {
     "name": "stdout",
     "output_type": "stream",
     "text": [
      "Graph has 18661 nodes and 48518 edges.\n",
      "<class 'networkx.classes.multidigraph.MultiDiGraph'>\n"
     ]
    }
   ],
   "source": [
    "# Create a graph from the road network of Natal, Rio Grande do Norte, Brazil\n",
    "G = ox.graph_from_place(\"Natal, Rio Grande do Norte, Brasil\", network_type=\"drive\")\n",
    "\n",
    "print(f\"Graph has {len(G.nodes)} nodes and {len(G.edges)} edges.\")\n",
    "print(type(G))\n",
    "# Plot the graph with specified node size and edge linewidth\n",
    "#fig, ax = ox.plot_graph(G, node_size=0, edge_linewidth=0.5, show=False, close=False)"
   ]
  },
  {
   "cell_type": "code",
   "execution_count": 21,
   "metadata": {},
   "outputs": [
    {
     "name": "stdout",
     "output_type": "stream",
     "text": [
      "Graph has 18661 nodes and 48423 edges.\n",
      "<class 'networkx.classes.digraph.DiGraph'>\n"
     ]
    }
   ],
   "source": [
    "# Crie um novo DiGraph (grafo direcionado simples)\n",
    "G_digraph = nx.DiGraph()\n",
    "\n",
    "# Itere sobre as arestas do MultiDiGraph e adicione apenas uma aresta entre cada par de nós\n",
    "for u, v, data in G.edges(data=True):\n",
    "    if not G_digraph.has_edge(u, v):\n",
    "        # Adicionar a aresta se não existir no DiGraph\n",
    "        G_digraph.add_edge(u, v, **data)\n",
    "\n",
    "G = G_digraph\n",
    "\n",
    "# Verifique o tipo do grafo convertido\n",
    "print(f\"Graph has {len(G.nodes)} nodes and {len(G.edges)} edges.\")\n",
    "print(type(G))"
   ]
  },
  {
   "cell_type": "code",
   "execution_count": null,
   "metadata": {},
   "outputs": [],
   "source": [
    "# Define the coordinates of the starting point\n",
    "latitude = -5.811551614738788\n",
    "longitude = -35.21889920439562\n",
    "\n",
    "# Find the nearest node to the starting point\n",
    "start_node = ox.distance.nearest_nodes(G, X=longitude, Y=latitude)\n",
    "print(f\"Nó mais próximo das coordenadas iniciais: {start_node}\")\n",
    "\n",
    "# Calculate the distance to all other nodes from the starting node\n",
    "lengths = nx.single_source_dijkstra_path_length(G, start_node, weight='length')\n",
    "\n",
    "# Identify the farthest node and its distance\n",
    "farthest_node = max(lengths, key=lengths.get)\n",
    "max_distance = lengths[farthest_node]\n",
    "\n",
    "# Print the farthest node and its distance\n",
    "print(f\"O ponto mais distante é o nó {farthest_node} a {max_distance:.2f} metros.\")\n",
    "\n",
    "# Check the longitude and latitude of the farthest node\n",
    "farthest_node_coords = (G.nodes[farthest_node]['y'], G.nodes[farthest_node]['x'])\n",
    "print(f\"Coordenadas do nó mais distante: Latitude {farthest_node_coords[0]}, Longitude {farthest_node_coords[1]}\")"
   ]
  },
  {
   "cell_type": "code",
   "execution_count": null,
   "metadata": {},
   "outputs": [],
   "source": [
    "# Calculate the shortest path from the starting node to the farthest node\n",
    "shortest_path = nx.shortest_path(G, source=start_node, target=farthest_node, weight='length')\n",
    "\n",
    "# Plot the graph with the shortest path highlighted\n",
    "fig, ax = ox.plot_graph_route(G, shortest_path, route_linewidth=2, edge_linewidth=0.5, node_size=0, bgcolor='k')"
   ]
  },
  {
   "cell_type": "code",
   "execution_count": 25,
   "metadata": {},
   "outputs": [
    {
     "name": "stdout",
     "output_type": "stream",
     "text": [
      "[0, 1, 2, 3, 4, 5]\n"
     ]
    },
    {
     "data": {
      "image/png": "[encoded data removed]",
      "text/plain": [
       "<Figure size 640x480 with 1 Axes>"
      ]
     },
     "metadata": {},
     "output_type": "display_data"
    }
   ],
   "source": [
    "\n",
    "G = nx.DiGraph()  # Exemplo com grafo direcionado\n",
    "G.add_edge(0, 1, length=7)\n",
    "G.add_edge(1, 2, length=6)\n",
    "G.add_edge(1, 3, length=20)\n",
    "G.add_edge(1, 4, length=3)\n",
    "G.add_edge(2, 3, length=14)\n",
    "G.add_edge(3, 4, length=2)\n",
    "G.add_node(5)  \n",
    "\n",
    "print(list(G.nodes))\n",
    "\n",
    "# Desenhando o grafo\n",
    "pos = nx.spring_layout(G)  # Layout para a posição dos nós\n",
    "nx.draw(G, pos, with_labels=True, node_size=500, node_color='lightblue', arrows=True)\n",
    "\n",
    "# Adicionando os pesos nas arestas\n",
    "edge_labels = nx.get_edge_attributes(G, 'length')\n",
    "nx.draw_networkx_edge_labels(G, pos, edge_labels=edge_labels)\n",
    "\n",
    "# Mostrando o gráfico\n",
    "plt.show()"
   ]
  },
  {
   "cell_type": "code",
   "execution_count": 27,
   "metadata": {},
   "outputs": [
    {
     "name": "stdout",
     "output_type": "stream",
     "text": [
      "[[[1, 7]], [[2, 6], [3, 20], [4, 3]], [[3, 14]], [[4, 2]], [], []]\n",
      "6\n"
     ]
    }
   ],
   "source": [
    "def networkx_to_adjacency_list(G):\n",
    "    adjacency_list = []\n",
    "    nodes = list(G.nodes)  # Garantir a ordem consistente dos nós\n",
    "    node_index_map = {node: index for index, node in enumerate(nodes)}\n",
    "    reverse_map = {index: node for node, index in node_index_map.items()}  # Mapeamento reverso\n",
    "\n",
    "    for node in nodes:\n",
    "        edges = []\n",
    "        for _, neighbor, edge_data in G.out_edges(node, data=True):  # Desempacotando corretamente\n",
    "            length = edge_data.get('length', 1)  # Assumir peso 1 se não definido\n",
    "            edges.append([node_index_map[neighbor], length])  # Usando lista em vez de tupla\n",
    "        adjacency_list.append(edges)\n",
    "    \n",
    "    return adjacency_list, node_index_map, reverse_map\n",
    "\n",
    "adjacency_list, node_index_map, reverse_map = networkx_to_adjacency_list(G)\n",
    "print(adjacency_list[:10])\n",
    "print(len(adjacency_list))"
   ]
  },
  {
   "cell_type": "code",
   "execution_count": 23,
   "metadata": {},
   "outputs": [
    {
     "name": "stdout",
     "output_type": "stream",
     "text": [
      "Erro: O vértice 14008 não está no vertexMap. vertexMap: {1010: 14, 1364: 9, 1365: 2, 1366: 15, 14007: 13, 14010: 4, 14011: 8, 14012: 7, 14013: 1, 14927: 6, 14936: 5, 16876: 0, 18509: 3, 18510: 12, 18511: 10, 18512: 11}\n"
     ]
    },
    {
     "ename": "KeyError",
     "evalue": "14008",
     "output_type": "error",
     "traceback": [
      "\u001b[0;31m---------------------------------------------------------------------------\u001b[0m",
      "\u001b[0;31mKeyError\u001b[0m                                  Traceback (most recent call last)",
      "Cell \u001b[0;32mIn[23], line 3\u001b[0m\n\u001b[1;32m      1\u001b[0m start \u001b[38;5;241m=\u001b[39m \u001b[38;5;241m0\u001b[39m\n\u001b[0;32m----> 3\u001b[0m minDistances, previousNodes \u001b[38;5;241m=\u001b[39m \u001b[43mdijkstrasAlgorithmWithPaths\u001b[49m\u001b[43m(\u001b[49m\u001b[43mstart\u001b[49m\u001b[43m,\u001b[49m\u001b[43m \u001b[49m\u001b[43madjacency_list\u001b[49m\u001b[43m)\u001b[49m\n\u001b[1;32m      4\u001b[0m \u001b[38;5;28mprint\u001b[39m(minDistances)\n",
      "File \u001b[0;32m~/Projects/datastructure/U2/U2T3/U2T3_P1/dijkstrasAlgorithm.py:59\u001b[0m, in \u001b[0;36mdijkstrasAlgorithmWithPaths\u001b[0;34m(start, edges)\u001b[0m\n\u001b[1;32m     57\u001b[0m             minDistances[destination] \u001b[38;5;241m=\u001b[39m newPathDistance\n\u001b[1;32m     58\u001b[0m             previousNodes[destination] \u001b[38;5;241m=\u001b[39m vertex  \u001b[38;5;66;03m# Track the predecessor for path reconstruction\u001b[39;00m\n\u001b[0;32m---> 59\u001b[0m             \u001b[43mheap\u001b[49m\u001b[38;5;241;43m.\u001b[39;49m\u001b[43mupdate\u001b[49m\u001b[43m(\u001b[49m\u001b[43mdestination\u001b[49m\u001b[43m,\u001b[49m\u001b[43m \u001b[49m\u001b[43mnewPathDistance\u001b[49m\u001b[43m)\u001b[49m  \u001b[38;5;66;03m# Update the heap with the new distance\u001b[39;00m\n\u001b[1;32m     61\u001b[0m \u001b[38;5;28;01mreturn\u001b[39;00m minDistances, previousNodes\n",
      "File \u001b[0;32m~/Projects/datastructure/U2/U2T3/U2T3_P1/MinHeap.py:152\u001b[0m, in \u001b[0;36mMinHeap.update\u001b[0;34m(self, vertex, value)\u001b[0m\n\u001b[1;32m    150\u001b[0m \u001b[38;5;28;01mif\u001b[39;00m vertex \u001b[38;5;129;01mnot\u001b[39;00m \u001b[38;5;129;01min\u001b[39;00m \u001b[38;5;28mself\u001b[39m\u001b[38;5;241m.\u001b[39mvertexMap:\n\u001b[1;32m    151\u001b[0m     \u001b[38;5;28mprint\u001b[39m(\u001b[38;5;124mf\u001b[39m\u001b[38;5;124m\"\u001b[39m\u001b[38;5;124mErro: O vértice \u001b[39m\u001b[38;5;132;01m{\u001b[39;00mvertex\u001b[38;5;132;01m}\u001b[39;00m\u001b[38;5;124m não está no vertexMap. vertexMap: \u001b[39m\u001b[38;5;132;01m{\u001b[39;00m\u001b[38;5;28mself\u001b[39m\u001b[38;5;241m.\u001b[39mvertexMap\u001b[38;5;132;01m}\u001b[39;00m\u001b[38;5;124m\"\u001b[39m)\n\u001b[0;32m--> 152\u001b[0m     \u001b[38;5;28;01mraise\u001b[39;00m \u001b[38;5;167;01mKeyError\u001b[39;00m(vertex)\n\u001b[1;32m    153\u001b[0m \u001b[38;5;28mself\u001b[39m\u001b[38;5;241m.\u001b[39mheap[\u001b[38;5;28mself\u001b[39m\u001b[38;5;241m.\u001b[39mvertexMap[vertex]] \u001b[38;5;241m=\u001b[39m (vertex, value)\n\u001b[1;32m    154\u001b[0m \u001b[38;5;66;03m# Restore the heap property by sifting up the updated node\u001b[39;00m\n",
      "\u001b[0;31mKeyError\u001b[0m: 14008"
     ]
    }
   ],
   "source": [
    "start = 0\n",
    "\n",
    "minDistances, previousNodes = dijkstrasAlgorithmWithPaths(start, adjacency_list)\n",
    "print(minDistances)"
   ]
  },
  {
   "cell_type": "code",
   "execution_count": null,
   "metadata": {},
   "outputs": [],
   "source": [
    "start = 0\n",
    "edges = [\n",
    "    [[1, 7]],\n",
    "    [[2, 6], [3, 20], [4, 3]],\n",
    "    [[3, 14]],\n",
    "    [[4, 2]],\n",
    "    [],\n",
    "    [],\n",
    "]\n",
    "\n",
    "minDistances, previousNodes = dijkstrasAlgorithmWithPaths(start, edges)\n",
    "print(minDistances)"
   ]
  },
  {
   "cell_type": "code",
   "execution_count": null,
   "metadata": {},
   "outputs": [],
   "source": [
    "path_to_3 = reconstructPath(previousNodes, start, 3)\n",
    "print(path_to_3)\n",
    "\n",
    "def reconstruct_original_path(path, reverse_map):\n",
    "    return [reverse_map[index] for index in path]\n",
    "\n",
    "# Exemplo de uso:\n",
    "reverse_map = {index: node for node, index in node_map.items()}\n",
    "original_path = reconstruct_original_path(path_to_3, reverse_map)\n",
    "print(original_path)  # IDs originais dos nós\n",
    "\n"
   ]
  },
  {
   "cell_type": "code",
   "execution_count": null,
   "metadata": {},
   "outputs": [],
   "source": [
    "#start_node_index = node_index_map[529774086]\n",
    "#end_node_index = node_index_map[5624856493]\n",
    "\n",
    "#minDistances, previousNodes = dijkstrasAlgorithmWithPaths(start_node_index, adjacency_list)\n",
    "\n",
    "path_to_end = reconstructPath(previousNodes, start, 16)\n",
    "print(path_to_end)\n",
    "fig, ax = ox.plot_graph_route(G, path_to_end, route_linewidth=2, edge_linewidth=0.5, node_size=0, bgcolor='k')"
   ]
  },
  {
   "cell_type": "code",
   "execution_count": 46,
   "metadata": {},
   "outputs": [],
   "source": [
    "def networkx_to_adjacency_list(G):\n",
    "    adjacency_list = []\n",
    "    \n",
    "    # Obter lista de nós, ordenada para garantir a ordem consistente\n",
    "    nodes = sorted(G.nodes())\n",
    "    \n",
    "    # Mapear os nós para índices\n",
    "    node_index_map = {node: index for index, node in enumerate(nodes)}\n",
    "    \n",
    "    # Criar a lista de adjacência\n",
    "    for node in nodes:\n",
    "        edges = []\n",
    "        for _, neighbor, edge_data in G.out_edges(node, data=True):  # Obter as arestas de saída\n",
    "            length = edge_data.get('length', 1)  # Usar 1 como valor padrão para o comprimento\n",
    "            edges.append([node_index_map[neighbor], length])  # [índice do destino, peso]\n",
    "        \n",
    "        # Adicionar a lista de arestas do nó atual\n",
    "        adjacency_list.append(edges)\n",
    "\n",
    "    # Verifique se estamos incluindo um nó vazio no final\n",
    "    # Quando um nó não tem arestas de saída, a lista de adjacência será uma lista vazia.\n",
    "    return adjacency_list, node_index_map"
   ]
  },
  {
   "cell_type": "code",
   "execution_count": 47,
   "metadata": {},
   "outputs": [
    {
     "data": {
      "image/png": "[encoded data removed]",
      "text/plain": [
       "<Figure size 640x480 with 1 Axes>"
      ]
     },
     "metadata": {},
     "output_type": "display_data"
    },
    {
     "ename": "ValueError",
     "evalue": "not enough values to unpack (expected 3, got 2)",
     "output_type": "error",
     "traceback": [
      "\u001b[0;31m---------------------------------------------------------------------------\u001b[0m",
      "\u001b[0;31mValueError\u001b[0m                                Traceback (most recent call last)",
      "Cell \u001b[0;32mIn[47], line 20\u001b[0m\n\u001b[1;32m     17\u001b[0m plt\u001b[38;5;241m.\u001b[39mshow()\n\u001b[1;32m     19\u001b[0m \u001b[38;5;66;03m# Converter para lista de adjacência\u001b[39;00m\n\u001b[0;32m---> 20\u001b[0m adj_list, node_map, reverse_map \u001b[38;5;241m=\u001b[39m networkx_to_adjacency_list(G)\n\u001b[1;32m     22\u001b[0m \u001b[38;5;66;03m# Imprimir os resultados\u001b[39;00m\n\u001b[1;32m     23\u001b[0m \u001b[38;5;28mprint\u001b[39m(\u001b[38;5;124m\"\u001b[39m\u001b[38;5;124mLista de adjacência:\u001b[39m\u001b[38;5;124m\"\u001b[39m, adj_list)\n",
      "\u001b[0;31mValueError\u001b[0m: not enough values to unpack (expected 3, got 2)"
     ]
    }
   ],
   "source": [
    "\n",
    "# Criar um exemplo simples de grafo direcionado\n",
    "G = nx.DiGraph()\n",
    "#G.add_edge(0, 1, length=7)\n",
    "G.add_edge(1, 2, length=5)\n",
    "G.add_edge(1, 3, length=10)\n",
    "G.add_edge(2, 3, length=3)\n",
    "\n",
    "# Desenhando o grafo\n",
    "pos = nx.spring_layout(G)  # Layout para a posição dos nós\n",
    "nx.draw(G, pos, with_labels=True, node_size=500, node_color='lightblue', arrows=True)\n",
    "\n",
    "# Adicionando os pesos nas arestas\n",
    "edge_labels = nx.get_edge_attributes(G, 'length')\n",
    "nx.draw_networkx_edge_labels(G, pos, edge_labels=edge_labels)\n",
    "\n",
    "# Mostrando o gráfico\n",
    "plt.show()\n",
    "\n",
    "# Converter para lista de adjacência\n",
    "adj_list, node_map, reverse_map = networkx_to_adjacency_list(G)\n",
    "\n",
    "# Imprimir os resultados\n",
    "print(\"Lista de adjacência:\", adj_list)\n",
    "print(\"Mapeamento de nós para índices:\", node_map)\n",
    "print(\"Mapeamento reverso:\", reverse_map)\n"
   ]
  }
 ],
 "metadata": {
  "kernelspec": {
   "display_name": ".venv",
   "language": "python",
   "name": "python3"
  },
  "language_info": {
   "codemirror_mode": {
    "name": "ipython",
    "version": 3
   },
   "file_extension": ".py",
   "mimetype": "text/x-python",
   "name": "python",
   "nbconvert_exporter": "python",
   "pygments_lexer": "ipython3",
   "version": "3.13.1"
  }
 },
 "nbformat": 4,
 "nbformat_minor": 2
}
