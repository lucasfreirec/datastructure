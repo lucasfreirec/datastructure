{
  "cells": [
    {
      "cell_type": "code",
      "execution_count": 1,
      "metadata": {
        "id": "gnnMbxVMPmDr"
      },
      "outputs": [
        {
          "ename": "",
          "evalue": "",
          "output_type": "error",
          "traceback": [
            "\u001b[1;31mLes cellules en cours d’exécution avec usr (Python 3.13.1) nécessitent le package ipykernel.\n",
            "\u001b[1;31mExécutez la commande suivante pour installer 'ipykernel' dans l’environnement Python. \n",
            "\u001b[1;31mCommande : '/bin/python -m pip install ipykernel -U --force-reinstall'"
          ]
        }
      ],
      "source": [
        "import osmnx as ox\n",
        "import networkx as nx\n",
        "import matplotlib.pyplot as plt\n",
        "import matplotlib.patches as mpatches"
      ]
    },
    {
      "cell_type": "code",
      "execution_count": 2,
      "metadata": {
        "id": "qCMInfL-P52n"
      },
      "outputs": [],
      "source": [
        "def to_undirected_multigraph(G):\n",
        "    \"\"\"\n",
        "    Converte um MultiDiGraph direcionado em um MultiGraph não-direcionado,\n",
        "    preservando atributos dos nós e arestas.\n",
        "    \"\"\"\n",
        "    H = nx.MultiGraph()\n",
        "    # Copiar nós e seus atributos\n",
        "    for n, data in G.nodes(data=True):\n",
        "        H.add_node(n, **data)\n",
        "\n",
        "    # Copiar arestas e seus atributos, sem direcionamento\n",
        "    for u, v, data in G.edges(data=True):\n",
        "        # Em um MultiGraph, se já existir uma aresta u-v, esta será adicionada como mais uma aresta paralela\n",
        "        H.add_edge(u, v, **data)\n",
        "\n",
        "    # Copiar atributos do grafo\n",
        "    H.graph.update(G.graph)\n",
        "    return H"
      ]
    },
    {
      "cell_type": "code",
      "execution_count": 3,
      "metadata": {
        "id": "Vo3XruQAkyv7"
      },
      "outputs": [],
      "source": [
        "# ============================================\n",
        "# 1. Obter o grafo da cidade de Natal\n",
        "# ============================================\n",
        "place = \"Natal, Rio Grande do Norte, Brazil\"\n",
        "G = ox.graph_from_place(place, network_type='drive')\n",
        "\n",
        "# Converte para não-direcionado mantendo o tipo MultiGraph\n",
        "G_undirected = to_undirected_multigraph(G)"
      ]
    },
    {
      "cell_type": "code",
      "execution_count": 4,
      "metadata": {
        "id": "2b7nzqcHk6aL"
      },
      "outputs": [],
      "source": [
        "# ============================================\n",
        "# 2. Obter POIs de interesse\n",
        "# ============================================\n",
        "pois_info = [\n",
        "    {\"name\": \"Morro do Careca\", \"color\": \"blue\", \"coordinates\": (-5.883684255366649, -35.16444783802863)},\n",
        "    {\"name\": \"Forte dos Reis Magos\", \"color\": \"green\", \"coordinates\": (-5.756266898447098, -35.19497968971633)},\n",
        "    {\"name\": \"Praia dos Artistas\", \"color\": \"purple\", \"coordinates\": (-5.781604, -35.192590)},\n",
        "    {\"name\": \"Shopping Artesanato Vilarte\", \"color\": \"pink\", \"coordinates\": (-5.873288439766393, -35.17958640726536)},\n",
        "    {\"name\": \"Centro de Turismo\", \"color\": \"orange\", \"coordinates\": (-5.779237413367311, -35.196641022055665)},\n",
        "    {\"name\": \"Museu Câmara Cascudo\", \"color\": \"cyan\", \"coordinates\": (-5.803170160249714, -35.20119414420729)},\n",
        "    {\"name\": \"Parque da Cidade\", \"color\": \"yellow\", \"coordinates\": (-5.850235280916188, -35.226226951926)},\n",
        "    {\"name\": \"Farol de Mãe Luiza\", \"color\": \"red\", \"coordinates\": (-5.795123635137049, -35.185171185948214)},\n",
        "]"
      ]
    },
    {
      "cell_type": "code",
      "execution_count": null,
      "metadata": {
        "colab": {
          "base_uri": "https://localhost:8080/"
        },
        "id": "10tR9N1hk9mf",
        "outputId": "a07a7a40-b7ed-4236-c1c7-42d92aea0a22"
      },
      "outputs": [],
      "source": [
        "# ============================================\n",
        "# 3. Encontrar nós mais próximos dos POIs\n",
        "# ============================================\n",
        "for poi in pois_info:\n",
        "    lat, lon = poi[\"coordinates\"]\n",
        "    node = ox.distance.nearest_nodes(G_undirected, X=[lon], Y=[lat])[0]\n",
        "    poi[\"node\"] = node\n",
        "\n",
        "# ============================================\n",
        "# 4. Construir um grafo completo com menor rota entre POIs\n",
        "# ============================================\n",
        "pois_nodes = [poi[\"node\"] for poi in pois_info]\n",
        "G_interest = nx.Graph()\n",
        "for i in range(len(pois_nodes)):\n",
        "    for j in range(i + 1, len(pois_nodes)):\n",
        "        route = nx.shortest_path(G_undirected, pois_nodes[i], pois_nodes[j], weight=\"length\")\n",
        "        route_length = 0\n",
        "        for k in range(len(route) - 1):\n",
        "            route_length += G_undirected[route[k]][route[k + 1]][0][\"length\"]\n",
        "        G_interest.add_edge(pois_nodes[i], pois_nodes[j], weight=route_length)\n",
        "\n",
        "# ============================================\n",
        "# 5. Calcular o MST\n",
        "# ============================================\n",
        "mst_edges = list(nx.minimum_spanning_edges(G_interest, data=True))\n",
        "total_mst_length = sum([d[\"weight\"] for (u, v, d) in mst_edges])\n",
        "print(\"Comprimento total do MST entre os POIs selecionados:\", total_mst_length, \"metros\")"
      ]
    },
    {
      "cell_type": "code",
      "execution_count": null,
      "metadata": {
        "colab": {
          "base_uri": "https://localhost:8080/",
          "height": 830
        },
        "id": "c2itfk2EjfOB",
        "outputId": "e62557dd-65bb-4681-a4e4-358c002c0fcf"
      },
      "outputs": [],
      "source": [
        "# Supondo que você já tenha as variáveis:\n",
        "# G_undirected: grafo MultiGraph não-direcionado\n",
        "# pois_nodes: lista de nós próximos aos hospitais\n",
        "# mst_edges: lista de arestas do MST\n",
        "# latitudes, longitudes: listas com lat/long dos hospitais\n",
        "\n",
        "# Caso não tenha sido definido, você pode calcular um bbox se quiser\n",
        "# bbox_padding = 0.02\n",
        "# north = max(latitudes) + bbox_padding\n",
        "# south = min(latitudes) - bbox_padding\n",
        "# east = max(longitudes) + bbox_padding\n",
        "# west = min(longitudes) - bbox_padding\n",
        "\n",
        "# Plotar o grafo base\n",
        "fig, ax = ox.plot_graph(\n",
        "    G_undirected,\n",
        "    show=False,\n",
        "    close=False,\n",
        "    edge_color=\"gray\",\n",
        "    edge_linewidth=0.5,\n",
        "    node_size=0,\n",
        "    bgcolor=\"black\",\n",
        "    figsize=(10, 10),\n",
        ")\n",
        "\n",
        "# Destacar as rotas do MST em vermelho\n",
        "for u, v, data in mst_edges:\n",
        "    route = nx.shortest_path(G_undirected, u, v, weight=\"length\")\n",
        "    x = [G_undirected.nodes[n][\"x\"] for n in route]\n",
        "    y = [G_undirected.nodes[n][\"y\"] for n in route]\n",
        "    ax.plot(x, y, color=\"red\", linewidth=2, zorder=4)\n",
        "\n",
        "# Adicionar os POIs ao gráfico e criar a legenda\n",
        "legend_handles = []\n",
        "for poi in pois_info:\n",
        "    node = poi[\"node\"]\n",
        "    poi_x = G_undirected.nodes[node][\"x\"]\n",
        "    poi_y = G_undirected.nodes[node][\"y\"]\n",
        "    ax.scatter(poi_x, poi_y, c=poi[\"color\"], s=150, zorder=5, edgecolor=\"black\", label=poi[\"name\"])\n",
        "    legend_handles.append(mpatches.Patch(color=poi[\"color\"], label=poi[\"name\"]))\n",
        "\n",
        "# Adicionar a legenda\n",
        "ax.legend(handles=legend_handles, loc=\"best\", fontsize=10)\n",
        "\n",
        "plt.title(\"MST entre Pontos Turísticos de Natal\", fontsize=14, color=\"white\")\n",
        "plt.show()"
      ]
    }
  ],
  "metadata": {
    "colab": {
      "provenance": []
    },
    "kernelspec": {
      "display_name": "usr",
      "language": "python",
      "name": "python3"
    },
    "language_info": {
      "codemirror_mode": {
        "name": "ipython",
        "version": 3
      },
      "file_extension": ".py",
      "mimetype": "text/x-python",
      "name": "python",
      "nbconvert_exporter": "python",
      "pygments_lexer": "ipython3",
      "version": "3.13.1"
    }
  },
  "nbformat": 4,
  "nbformat_minor": 0
}
